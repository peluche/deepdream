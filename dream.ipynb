{
  "cells": [
    {
      "cell_type": "markdown",
      "metadata": {},
      "source": [
        "# Deepdream"
      ]
    },
    {
      "cell_type": "markdown",
      "metadata": {},
      "source": [
        "## Setup"
      ]
    },
    {
      "cell_type": "code",
      "execution_count": null,
      "metadata": {},
      "outputs": [],
      "source": [
        "import random\n",
        "import math\n",
        "import torch\n",
        "import torch.nn.functional as F\n",
        "import PIL\n",
        "import copy\n",
        "from tqdm.auto import tqdm\n",
        "import torchvision.models as models\n",
        "import transformers\n",
        "from transformers import AutoImageProcessor, ResNetForImageClassification\n",
        "import matplotlib.pyplot as plt\n",
        "%matplotlib inline"
      ]
    },
    {
      "cell_type": "code",
      "execution_count": null,
      "metadata": {},
      "outputs": [],
      "source": [
        "# load from torchvision pre-trained VGG19\n",
        "vgg = models.vgg19(weights=models.VGG19_Weights.IMAGENET1K_V1)\n",
        "# load things from huggingface\n",
        "transformers.logging.set_verbosity_error() # suppress warnings\n",
        "processor = AutoImageProcessor.from_pretrained(\"microsoft/resnet-50\")\n",
        "resnet = ResNetForImageClassification.from_pretrained(\"microsoft/resnet-50\") # for imagenet labels\n",
        "do_normalize = False # keep images human readable\n",
        "# labels\n",
        "id2label = resnet.config.id2label"
      ]
    },
    {
      "cell_type": "markdown",
      "metadata": {},
      "source": [
        "## Helpers"
      ]
    },
    {
      "cell_type": "code",
      "execution_count": null,
      "metadata": {},
      "outputs": [],
      "source": [
        "# plot the image and optinal labels in a grid\n",
        "def plot(*args, n_col=None, figsize=None, axis_off=True):\n",
        "    '''Plot the images in a grid with optional labels'''\n",
        "    # prepare the elements to plot as (image, label)\n",
        "    elems = []\n",
        "    for el in args:\n",
        "        if isinstance(el, torch.Tensor):\n",
        "            if el.dim() == 4: el = el[0] # if picture is a batch, take the first one\n",
        "            assert el.dim() == 3, f\"Wrong image shape {el.shape}\"\n",
        "            if el.shape[0] == 3: el = el.permute(1, 2, 0)\n",
        "            if el.requires_grad: el = el.detach()\n",
        "            elems.append([el])\n",
        "        elif isinstance(el, str): elems[-1].append(el)\n",
        "        else: raise ValueError(f\"Wrong element ({type(el)}) {repr(el)}\")\n",
        "    elems = [(el[0], el[1] if len(el) == 2 else None) for el in elems]\n",
        "\n",
        "    # plot the images\n",
        "    n_col = n_col or len(elems)\n",
        "    n_row = math.ceil(len(elems) / n_col)\n",
        "    figsize = figsize or (n_col * 4, n_row * 4)\n",
        "    fig, ax = plt.subplots(n_row, n_col, figsize=figsize)\n",
        "    if n_row == 1 and n_col == 1: ax = [ax]\n",
        "    for i, (img, label) in enumerate(elems):\n",
        "        idx = (i,) if n_row == 1 or n_col == 1 else (i // n_col, i % n_col)\n",
        "        if label: ax.__getitem__(*idx).set_title(label) # use __getitem__() because [] mess up the * operator somehow\n",
        "        ax.__getitem__(*idx).imshow(img)\n",
        "    # remove the axis\n",
        "    for i in range(n_row * n_col):\n",
        "        idx = (i,) if n_row == 1 or n_col == 1 else (i // n_col, i % n_col)\n",
        "        if axis_off: ax.__getitem__(*idx).axis('off')\n",
        "    plt.tight_layout()\n",
        "    plt.show()"
      ]
    },
    {
      "cell_type": "code",
      "execution_count": null,
      "metadata": {},
      "outputs": [],
      "source": [
        "# classify things\n",
        "@torch.no_grad()\n",
        "def classify(img, model):\n",
        "    logits = model(img)\n",
        "    if not isinstance(logits, torch.Tensor): logits = logits.logits\n",
        "    confidence = logits.softmax(dim=-1).max()\n",
        "    label = id2label[logits.argmax(dim=-1).item()]\n",
        "    return label, confidence\n",
        "\n",
        "def all_classify(img):\n",
        "    res = []\n",
        "    models = [\n",
        "        ('VGG19', vgg),\n",
        "        ('ResNet', resnet)\n",
        "    ]\n",
        "    for name, model in models:\n",
        "        label, confidence = classify(img, model)\n",
        "        if len(label) > 20: label = label[:20] + '...'\n",
        "        res.append(f'{name:6}: {label:23} ({confidence*100:.2f}%)')\n",
        "    return '\\n'.join(res)\n",
        "\n",
        "def plotl(*args):\n",
        "    '''expecting tuples of (image, label)'''\n",
        "    av = []\n",
        "    for img, label in args:\n",
        "        av.append(img)\n",
        "        av.append(f'{label}\\n{all_classify(img)}')\n",
        "    plot(*av)"
      ]
    },
    {
      "cell_type": "markdown",
      "metadata": {},
      "source": [
        "## Load images"
      ]
    },
    {
      "cell_type": "code",
      "execution_count": null,
      "metadata": {},
      "outputs": [],
      "source": [
        "original_vangogh = PIL.Image.open(\"vangogh.jpg\")\n",
        "original_sky = PIL.Image.open(\"sky.jpg\")\n",
        "original_kelpie = PIL.Image.open(\"kelpie.jpg\")\n",
        "vangogh = processor(original_vangogh, return_tensors=\"pt\", do_normalize=do_normalize)['pixel_values']\n",
        "sky = processor(original_sky, return_tensors=\"pt\", do_normalize=do_normalize)['pixel_values']\n",
        "kelpie = processor(original_kelpie, return_tensors=\"pt\", do_normalize=do_normalize)['pixel_values']\n",
        "plot(vangogh, sky, kelpie)"
      ]
    },
    {
      "cell_type": "markdown",
      "metadata": {},
      "source": [
        "## VGG from torchvision"
      ]
    },
    {
      "cell_type": "code",
      "execution_count": null,
      "metadata": {},
      "outputs": [],
      "source": [
        "# hyperparameters\n",
        "epochs = 1000\n",
        "log_every = 100\n",
        "learning_rate = 0.01\n",
        "device = 'cuda' if torch.cuda.is_available() else 'cpu'"
      ]
    },
    {
      "cell_type": "code",
      "execution_count": null,
      "metadata": {},
      "outputs": [],
      "source": [
        "# the VGG model on torchvision is much easier to look into than ResNet from huggingface\n",
        "vgg.features"
      ]
    },
    {
      "cell_type": "code",
      "execution_count": null,
      "metadata": {},
      "outputs": [],
      "source": [
        "# hook some activation layer\n",
        "def hook(layer, k, mem=None):\n",
        "    if mem is None: mem = {}\n",
        "    def f(module, input, output):\n",
        "        mem[k] = output\n",
        "    layer.register_forward_hook(f)\n",
        "    return mem"
      ]
    },
    {
      "cell_type": "code",
      "execution_count": null,
      "metadata": {},
      "outputs": [],
      "source": [
        "def shallowdream(start, layer=35, m=vgg, learning_rate=learning_rate, epochs=epochs):\n",
        "    start = copy.deepcopy(start.detach())\n",
        "    # move to device\n",
        "    dream = start.to(device).requires_grad_()\n",
        "    m = m.to(device)\n",
        "    # hook some layer\n",
        "  \n",
        "    mem = hook(m.features[layer], layer)\n",
        "    # dream on\n",
        "\n",
        "    for epoch in tqdm(range(epochs)):\n",
        "        m(dream)\n",
        "        # loss = mem[35].mean()\n",
        "        loss = mem[layer].norm()\n",
        "        dream.grad = None\n",
        "        loss.backward()\n",
        "        dream.data = torch.clip((dream + dream.grad * learning_rate), 0., 1.).data # jumping through hoops to please pytorch\n",
        "        # logging\n",
        "        if epoch % log_every == log_every - 1:\n",
        "            print(f\"{epoch: 4} {loss=}\")\n",
        "            # plot(dream.to('cpu').detach())\n",
        "    return dream\n",
        "\n",
        "dream = shallowdream(vangogh, layer=28, learning_rate=0.02, epochs=20).to('cpu')\n",
        "plot(vangogh, 'starting point',\n",
        "     dream, 'dream')"
      ]
    },
    {
      "cell_type": "markdown",
      "metadata": {},
      "source": [
        "## dream by layer"
      ]
    },
    {
      "cell_type": "code",
      "execution_count": null,
      "metadata": {},
      "outputs": [],
      "source": [
        "start = kelpie\n",
        "for layer in range(1, 36):\n",
        "    dream = shallowdream(start, layer=layer, learning_rate=0.02, epochs=30).to('cpu')\n",
        "    plot(start, 'starting point',\n",
        "        dream, f'dream {layer=}')"
      ]
    },
    {
      "cell_type": "markdown",
      "metadata": {},
      "source": [
        "## dream of creatures?"
      ]
    },
    {
      "cell_type": "code",
      "execution_count": null,
      "metadata": {},
      "outputs": [],
      "source": [
        "start = kelpie\n",
        "# layer = 25 # building?\n",
        "layer = 27 # creatures?\n",
        "# layer = 30 # mountain?\n",
        "# layer = 34 # bigger creatures?\n",
        "for duration in range(10, 300, 50):\n",
        "    dream = shallowdream(start, layer=layer, learning_rate=0.02, epochs=duration).to('cpu')\n",
        "    plot(start, 'starting point',\n",
        "         dream, f'dream {duration=}')"
      ]
    },
    {
      "cell_type": "markdown",
      "metadata": {},
      "source": [
        "## random demos"
      ]
    },
    {
      "cell_type": "code",
      "execution_count": null,
      "metadata": {},
      "outputs": [],
      "source": [
        "for start in [kelpie, sky, vangogh]:\n",
        "    for layer in range(1, 36):\n",
        "        dream = shallowdream(start, layer=layer, learning_rate=0.02, epochs=30).to('cpu')\n",
        "        plot(start, 'starting point',\n",
        "            dream, f'dream {layer=}')"
      ]
    },
    {
      "cell_type": "markdown",
      "metadata": {},
      "source": [
        "## with noise"
      ]
    },
    {
      "cell_type": "code",
      "execution_count": null,
      "metadata": {},
      "outputs": [],
      "source": [
        "start = torch.randn_like(vangogh) * 0.2\n",
        "for layer in range(1, 36):\n",
        "    dream = shallowdream(start, layer=layer, learning_rate=0.02, epochs=80).to('cpu')\n",
        "    plot(start, 'starting point',\n",
        "        dream, f'dream {layer=}')"
      ]
    }
  ],
  "metadata": {
    "colab": {
      "machine_shape": "hm",
      "provenance": []
    },
    "kernelspec": {
      "display_name": "venv_hf_nlp",
      "language": "python",
      "name": "venv_hf_nlp"
    },
    "language_info": {
      "codemirror_mode": {
        "name": "ipython",
        "version": 3
      },
      "file_extension": ".py",
      "mimetype": "text/x-python",
      "name": "python",
      "nbconvert_exporter": "python",
      "pygments_lexer": "ipython3",
      "version": "3.11.2"
    },
    "widgets": {
      "application/vnd.jupyter.widget-state+json": {
        "022feaea4f884975bea34099b97bc365": {
          "model_module": "@jupyter-widgets/controls",
          "model_module_version": "1.5.0",
          "model_name": "DescriptionStyleModel",
          "state": {
            "_model_module": "@jupyter-widgets/controls",
            "_model_module_version": "1.5.0",
            "_model_name": "DescriptionStyleModel",
            "_view_count": null,
            "_view_module": "@jupyter-widgets/base",
            "_view_module_version": "1.2.0",
            "_view_name": "StyleView",
            "description_width": ""
          }
        },
        "0564650a1bfd410e9028ee3640607823": {
          "model_module": "@jupyter-widgets/controls",
          "model_module_version": "1.5.0",
          "model_name": "ProgressStyleModel",
          "state": {
            "_model_module": "@jupyter-widgets/controls",
            "_model_module_version": "1.5.0",
            "_model_name": "ProgressStyleModel",
            "_view_count": null,
            "_view_module": "@jupyter-widgets/base",
            "_view_module_version": "1.2.0",
            "_view_name": "StyleView",
            "bar_color": null,
            "description_width": ""
          }
        },
        "0b5544af32d6492dac09ce1b5aeb3532": {
          "model_module": "@jupyter-widgets/controls",
          "model_module_version": "1.5.0",
          "model_name": "HTMLModel",
          "state": {
            "_dom_classes": [],
            "_model_module": "@jupyter-widgets/controls",
            "_model_module_version": "1.5.0",
            "_model_name": "HTMLModel",
            "_view_count": null,
            "_view_module": "@jupyter-widgets/controls",
            "_view_module_version": "1.5.0",
            "_view_name": "HTMLView",
            "description": "",
            "description_tooltip": null,
            "layout": "IPY_MODEL_19e2f30025174381a3610089694b3c6b",
            "placeholder": "​",
            "style": "IPY_MODEL_c2d8d40c170246d7a0119c5a6c9fa840",
            "value": " 100/100 [01:11&lt;00:00,  1.23it/s]"
          }
        },
        "19e2f30025174381a3610089694b3c6b": {
          "model_module": "@jupyter-widgets/base",
          "model_module_version": "1.2.0",
          "model_name": "LayoutModel",
          "state": {
            "_model_module": "@jupyter-widgets/base",
            "_model_module_version": "1.2.0",
            "_model_name": "LayoutModel",
            "_view_count": null,
            "_view_module": "@jupyter-widgets/base",
            "_view_module_version": "1.2.0",
            "_view_name": "LayoutView",
            "align_content": null,
            "align_items": null,
            "align_self": null,
            "border": null,
            "bottom": null,
            "display": null,
            "flex": null,
            "flex_flow": null,
            "grid_area": null,
            "grid_auto_columns": null,
            "grid_auto_flow": null,
            "grid_auto_rows": null,
            "grid_column": null,
            "grid_gap": null,
            "grid_row": null,
            "grid_template_areas": null,
            "grid_template_columns": null,
            "grid_template_rows": null,
            "height": null,
            "justify_content": null,
            "justify_items": null,
            "left": null,
            "margin": null,
            "max_height": null,
            "max_width": null,
            "min_height": null,
            "min_width": null,
            "object_fit": null,
            "object_position": null,
            "order": null,
            "overflow": null,
            "overflow_x": null,
            "overflow_y": null,
            "padding": null,
            "right": null,
            "top": null,
            "visibility": null,
            "width": null
          }
        },
        "2cdbcc32728b4f1e9623c5769f0c04b9": {
          "model_module": "@jupyter-widgets/controls",
          "model_module_version": "1.5.0",
          "model_name": "HBoxModel",
          "state": {
            "_dom_classes": [],
            "_model_module": "@jupyter-widgets/controls",
            "_model_module_version": "1.5.0",
            "_model_name": "HBoxModel",
            "_view_count": null,
            "_view_module": "@jupyter-widgets/controls",
            "_view_module_version": "1.5.0",
            "_view_name": "HBoxView",
            "box_style": "",
            "children": [
              "IPY_MODEL_c846bc7399444f838689584f8f5eda64",
              "IPY_MODEL_83a647e412204b20bd2a3ee53243506a",
              "IPY_MODEL_0b5544af32d6492dac09ce1b5aeb3532"
            ],
            "layout": "IPY_MODEL_538978e85dce4543b832f8d8cecda4a3"
          }
        },
        "538978e85dce4543b832f8d8cecda4a3": {
          "model_module": "@jupyter-widgets/base",
          "model_module_version": "1.2.0",
          "model_name": "LayoutModel",
          "state": {
            "_model_module": "@jupyter-widgets/base",
            "_model_module_version": "1.2.0",
            "_model_name": "LayoutModel",
            "_view_count": null,
            "_view_module": "@jupyter-widgets/base",
            "_view_module_version": "1.2.0",
            "_view_name": "LayoutView",
            "align_content": null,
            "align_items": null,
            "align_self": null,
            "border": null,
            "bottom": null,
            "display": null,
            "flex": null,
            "flex_flow": null,
            "grid_area": null,
            "grid_auto_columns": null,
            "grid_auto_flow": null,
            "grid_auto_rows": null,
            "grid_column": null,
            "grid_gap": null,
            "grid_row": null,
            "grid_template_areas": null,
            "grid_template_columns": null,
            "grid_template_rows": null,
            "height": null,
            "justify_content": null,
            "justify_items": null,
            "left": null,
            "margin": null,
            "max_height": null,
            "max_width": null,
            "min_height": null,
            "min_width": null,
            "object_fit": null,
            "object_position": null,
            "order": null,
            "overflow": null,
            "overflow_x": null,
            "overflow_y": null,
            "padding": null,
            "right": null,
            "top": null,
            "visibility": null,
            "width": null
          }
        },
        "8326b568f5344c80bc1bb3707a89249f": {
          "model_module": "@jupyter-widgets/base",
          "model_module_version": "1.2.0",
          "model_name": "LayoutModel",
          "state": {
            "_model_module": "@jupyter-widgets/base",
            "_model_module_version": "1.2.0",
            "_model_name": "LayoutModel",
            "_view_count": null,
            "_view_module": "@jupyter-widgets/base",
            "_view_module_version": "1.2.0",
            "_view_name": "LayoutView",
            "align_content": null,
            "align_items": null,
            "align_self": null,
            "border": null,
            "bottom": null,
            "display": null,
            "flex": null,
            "flex_flow": null,
            "grid_area": null,
            "grid_auto_columns": null,
            "grid_auto_flow": null,
            "grid_auto_rows": null,
            "grid_column": null,
            "grid_gap": null,
            "grid_row": null,
            "grid_template_areas": null,
            "grid_template_columns": null,
            "grid_template_rows": null,
            "height": null,
            "justify_content": null,
            "justify_items": null,
            "left": null,
            "margin": null,
            "max_height": null,
            "max_width": null,
            "min_height": null,
            "min_width": null,
            "object_fit": null,
            "object_position": null,
            "order": null,
            "overflow": null,
            "overflow_x": null,
            "overflow_y": null,
            "padding": null,
            "right": null,
            "top": null,
            "visibility": null,
            "width": null
          }
        },
        "83a647e412204b20bd2a3ee53243506a": {
          "model_module": "@jupyter-widgets/controls",
          "model_module_version": "1.5.0",
          "model_name": "FloatProgressModel",
          "state": {
            "_dom_classes": [],
            "_model_module": "@jupyter-widgets/controls",
            "_model_module_version": "1.5.0",
            "_model_name": "FloatProgressModel",
            "_view_count": null,
            "_view_module": "@jupyter-widgets/controls",
            "_view_module_version": "1.5.0",
            "_view_name": "ProgressView",
            "bar_style": "success",
            "description": "",
            "description_tooltip": null,
            "layout": "IPY_MODEL_8326b568f5344c80bc1bb3707a89249f",
            "max": 100,
            "min": 0,
            "orientation": "horizontal",
            "style": "IPY_MODEL_0564650a1bfd410e9028ee3640607823",
            "value": 100
          }
        },
        "c2d8d40c170246d7a0119c5a6c9fa840": {
          "model_module": "@jupyter-widgets/controls",
          "model_module_version": "1.5.0",
          "model_name": "DescriptionStyleModel",
          "state": {
            "_model_module": "@jupyter-widgets/controls",
            "_model_module_version": "1.5.0",
            "_model_name": "DescriptionStyleModel",
            "_view_count": null,
            "_view_module": "@jupyter-widgets/base",
            "_view_module_version": "1.2.0",
            "_view_name": "StyleView",
            "description_width": ""
          }
        },
        "c846bc7399444f838689584f8f5eda64": {
          "model_module": "@jupyter-widgets/controls",
          "model_module_version": "1.5.0",
          "model_name": "HTMLModel",
          "state": {
            "_dom_classes": [],
            "_model_module": "@jupyter-widgets/controls",
            "_model_module_version": "1.5.0",
            "_model_name": "HTMLModel",
            "_view_count": null,
            "_view_module": "@jupyter-widgets/controls",
            "_view_module_version": "1.5.0",
            "_view_name": "HTMLView",
            "description": "",
            "description_tooltip": null,
            "layout": "IPY_MODEL_daa865e39a564b46addb3e2d47e9677e",
            "placeholder": "​",
            "style": "IPY_MODEL_022feaea4f884975bea34099b97bc365",
            "value": "100%"
          }
        },
        "daa865e39a564b46addb3e2d47e9677e": {
          "model_module": "@jupyter-widgets/base",
          "model_module_version": "1.2.0",
          "model_name": "LayoutModel",
          "state": {
            "_model_module": "@jupyter-widgets/base",
            "_model_module_version": "1.2.0",
            "_model_name": "LayoutModel",
            "_view_count": null,
            "_view_module": "@jupyter-widgets/base",
            "_view_module_version": "1.2.0",
            "_view_name": "LayoutView",
            "align_content": null,
            "align_items": null,
            "align_self": null,
            "border": null,
            "bottom": null,
            "display": null,
            "flex": null,
            "flex_flow": null,
            "grid_area": null,
            "grid_auto_columns": null,
            "grid_auto_flow": null,
            "grid_auto_rows": null,
            "grid_column": null,
            "grid_gap": null,
            "grid_row": null,
            "grid_template_areas": null,
            "grid_template_columns": null,
            "grid_template_rows": null,
            "height": null,
            "justify_content": null,
            "justify_items": null,
            "left": null,
            "margin": null,
            "max_height": null,
            "max_width": null,
            "min_height": null,
            "min_width": null,
            "object_fit": null,
            "object_position": null,
            "order": null,
            "overflow": null,
            "overflow_x": null,
            "overflow_y": null,
            "padding": null,
            "right": null,
            "top": null,
            "visibility": null,
            "width": null
          }
        }
      }
    }
  },
  "nbformat": 4,
  "nbformat_minor": 0
}
